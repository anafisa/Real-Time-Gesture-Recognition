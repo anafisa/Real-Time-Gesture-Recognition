{
 "cells": [
  {
   "cell_type": "code",
   "execution_count": 1,
   "metadata": {},
   "outputs": [],
   "source": [
    "import pandas as pd\n",
    "import numpy as np"
   ]
  },
  {
   "cell_type": "code",
   "execution_count": 2,
   "metadata": {},
   "outputs": [
    {
     "data": {
      "text/html": [
       "<div>\n",
       "<style scoped>\n",
       "    .dataframe tbody tr th:only-of-type {\n",
       "        vertical-align: middle;\n",
       "    }\n",
       "\n",
       "    .dataframe tbody tr th {\n",
       "        vertical-align: top;\n",
       "    }\n",
       "\n",
       "    .dataframe thead th {\n",
       "        text-align: right;\n",
       "    }\n",
       "</style>\n",
       "<table border=\"1\" class=\"dataframe\">\n",
       "  <thead>\n",
       "    <tr style=\"text-align: right;\">\n",
       "      <th></th>\n",
       "      <th>pixel1</th>\n",
       "      <th>pixel2</th>\n",
       "      <th>pixel3</th>\n",
       "      <th>pixel4</th>\n",
       "      <th>pixel5</th>\n",
       "      <th>pixel6</th>\n",
       "      <th>pixel7</th>\n",
       "      <th>pixel8</th>\n",
       "      <th>pixel9</th>\n",
       "      <th>pixel10</th>\n",
       "      <th>...</th>\n",
       "      <th>pixel775</th>\n",
       "      <th>pixel776</th>\n",
       "      <th>pixel777</th>\n",
       "      <th>pixel778</th>\n",
       "      <th>pixel779</th>\n",
       "      <th>pixel780</th>\n",
       "      <th>pixel781</th>\n",
       "      <th>pixel782</th>\n",
       "      <th>pixel783</th>\n",
       "      <th>pixel784</th>\n",
       "    </tr>\n",
       "  </thead>\n",
       "  <tbody>\n",
       "    <tr>\n",
       "      <th>0</th>\n",
       "      <td>149</td>\n",
       "      <td>149</td>\n",
       "      <td>150</td>\n",
       "      <td>150</td>\n",
       "      <td>150</td>\n",
       "      <td>151</td>\n",
       "      <td>151</td>\n",
       "      <td>150</td>\n",
       "      <td>151</td>\n",
       "      <td>152</td>\n",
       "      <td>...</td>\n",
       "      <td>138</td>\n",
       "      <td>148</td>\n",
       "      <td>127</td>\n",
       "      <td>89</td>\n",
       "      <td>82</td>\n",
       "      <td>96</td>\n",
       "      <td>106</td>\n",
       "      <td>112</td>\n",
       "      <td>120</td>\n",
       "      <td>107</td>\n",
       "    </tr>\n",
       "    <tr>\n",
       "      <th>1</th>\n",
       "      <td>126</td>\n",
       "      <td>128</td>\n",
       "      <td>131</td>\n",
       "      <td>132</td>\n",
       "      <td>133</td>\n",
       "      <td>134</td>\n",
       "      <td>135</td>\n",
       "      <td>135</td>\n",
       "      <td>136</td>\n",
       "      <td>138</td>\n",
       "      <td>...</td>\n",
       "      <td>47</td>\n",
       "      <td>104</td>\n",
       "      <td>194</td>\n",
       "      <td>183</td>\n",
       "      <td>186</td>\n",
       "      <td>184</td>\n",
       "      <td>184</td>\n",
       "      <td>184</td>\n",
       "      <td>182</td>\n",
       "      <td>180</td>\n",
       "    </tr>\n",
       "    <tr>\n",
       "      <th>2</th>\n",
       "      <td>85</td>\n",
       "      <td>88</td>\n",
       "      <td>92</td>\n",
       "      <td>96</td>\n",
       "      <td>105</td>\n",
       "      <td>123</td>\n",
       "      <td>135</td>\n",
       "      <td>143</td>\n",
       "      <td>147</td>\n",
       "      <td>152</td>\n",
       "      <td>...</td>\n",
       "      <td>68</td>\n",
       "      <td>166</td>\n",
       "      <td>242</td>\n",
       "      <td>227</td>\n",
       "      <td>230</td>\n",
       "      <td>227</td>\n",
       "      <td>226</td>\n",
       "      <td>225</td>\n",
       "      <td>224</td>\n",
       "      <td>222</td>\n",
       "    </tr>\n",
       "    <tr>\n",
       "      <th>3</th>\n",
       "      <td>203</td>\n",
       "      <td>205</td>\n",
       "      <td>207</td>\n",
       "      <td>206</td>\n",
       "      <td>207</td>\n",
       "      <td>209</td>\n",
       "      <td>210</td>\n",
       "      <td>209</td>\n",
       "      <td>210</td>\n",
       "      <td>209</td>\n",
       "      <td>...</td>\n",
       "      <td>154</td>\n",
       "      <td>248</td>\n",
       "      <td>247</td>\n",
       "      <td>248</td>\n",
       "      <td>253</td>\n",
       "      <td>236</td>\n",
       "      <td>230</td>\n",
       "      <td>240</td>\n",
       "      <td>253</td>\n",
       "      <td>255</td>\n",
       "    </tr>\n",
       "    <tr>\n",
       "      <th>4</th>\n",
       "      <td>188</td>\n",
       "      <td>191</td>\n",
       "      <td>193</td>\n",
       "      <td>195</td>\n",
       "      <td>199</td>\n",
       "      <td>201</td>\n",
       "      <td>202</td>\n",
       "      <td>203</td>\n",
       "      <td>203</td>\n",
       "      <td>203</td>\n",
       "      <td>...</td>\n",
       "      <td>26</td>\n",
       "      <td>40</td>\n",
       "      <td>64</td>\n",
       "      <td>48</td>\n",
       "      <td>29</td>\n",
       "      <td>46</td>\n",
       "      <td>49</td>\n",
       "      <td>46</td>\n",
       "      <td>46</td>\n",
       "      <td>53</td>\n",
       "    </tr>\n",
       "  </tbody>\n",
       "</table>\n",
       "<p>5 rows × 784 columns</p>\n",
       "</div>"
      ],
      "text/plain": [
       "   pixel1  pixel2  pixel3  pixel4  pixel5  pixel6  pixel7  pixel8  pixel9  \\\n",
       "0     149     149     150     150     150     151     151     150     151   \n",
       "1     126     128     131     132     133     134     135     135     136   \n",
       "2      85      88      92      96     105     123     135     143     147   \n",
       "3     203     205     207     206     207     209     210     209     210   \n",
       "4     188     191     193     195     199     201     202     203     203   \n",
       "\n",
       "   pixel10    ...     pixel775  pixel776  pixel777  pixel778  pixel779  \\\n",
       "0      152    ...          138       148       127        89        82   \n",
       "1      138    ...           47       104       194       183       186   \n",
       "2      152    ...           68       166       242       227       230   \n",
       "3      209    ...          154       248       247       248       253   \n",
       "4      203    ...           26        40        64        48        29   \n",
       "\n",
       "   pixel780  pixel781  pixel782  pixel783  pixel784  \n",
       "0        96       106       112       120       107  \n",
       "1       184       184       184       182       180  \n",
       "2       227       226       225       224       222  \n",
       "3       236       230       240       253       255  \n",
       "4        46        49        46        46        53  \n",
       "\n",
       "[5 rows x 784 columns]"
      ]
     },
     "execution_count": 2,
     "metadata": {},
     "output_type": "execute_result"
    }
   ],
   "source": [
    "df_train=pd.read_csv('sign_mnist_train.csv')\n",
    "df_test=pd.read_csv('sign_mnist_test.csv')\n",
    "y_train=df_train['label'].values\n",
    "y_test=df_test['label'].values\n",
    "df_train.drop('label',axis=1,inplace=True)\n",
    "df_test.drop('label',axis=1,inplace=True)\n",
    "df_test.head()"
   ]
  },
  {
   "cell_type": "code",
   "execution_count": 3,
   "metadata": {},
   "outputs": [
    {
     "data": {
      "text/plain": [
       "array([ 0,  1,  2,  3,  4,  5,  6,  7,  8, 10, 11, 12, 13, 14, 15, 16, 17,\n",
       "       18, 19, 20, 21, 22, 23, 24], dtype=int64)"
      ]
     },
     "execution_count": 3,
     "metadata": {},
     "output_type": "execute_result"
    }
   ],
   "source": [
    "x_train=df_train.values\n",
    "x_test=df_test.values\n",
    "unique_val = np.array(y_train)\n",
    "np.unique(unique_val)"
   ]
  },
  {
   "cell_type": "code",
   "execution_count": 4,
   "metadata": {},
   "outputs": [],
   "source": [
    "x_train=np.array(x_train.reshape(-1,28,28,1))\n",
    "x_test=np.array(x_test.reshape(-1,28,28,1))"
   ]
  },
  {
   "cell_type": "code",
   "execution_count": 5,
   "metadata": {},
   "outputs": [
    {
     "name": "stdout",
     "output_type": "stream",
     "text": [
      "(27455, 28, 28, 1)\n",
      "(7172, 28, 28, 1)\n"
     ]
    }
   ],
   "source": [
    "print(x_train.shape)\n",
    "print(x_test.shape)"
   ]
  },
  {
   "cell_type": "code",
   "execution_count": 6,
   "metadata": {},
   "outputs": [],
   "source": [
    "from sklearn.preprocessing import LabelBinarizer\n",
    "lb_train= LabelBinarizer()\n",
    "lb_test=LabelBinarizer()\n",
    "y_train=lb_train.fit_transform(y_train)\n",
    "y_test=lb_test.fit_transform(y_test)"
   ]
  },
  {
   "cell_type": "code",
   "execution_count": 7,
   "metadata": {},
   "outputs": [
    {
     "name": "stdout",
     "output_type": "stream",
     "text": [
      "[[0 0 0 ... 0 0 0]\n",
      " [0 0 0 ... 0 0 0]\n",
      " [0 0 1 ... 0 0 0]\n",
      " ...\n",
      " [0 0 0 ... 0 0 0]\n",
      " [0 0 0 ... 0 0 0]\n",
      " [0 0 0 ... 0 1 0]]\n",
      "[[0 0 0 ... 0 0 0]\n",
      " [0 0 0 ... 0 0 0]\n",
      " [0 0 0 ... 0 0 0]\n",
      " ...\n",
      " [0 0 1 ... 0 0 0]\n",
      " [0 0 0 ... 0 0 0]\n",
      " [0 0 1 ... 0 0 0]]\n"
     ]
    }
   ],
   "source": [
    "print(y_train)\n",
    "print(y_test)"
   ]
  },
  {
   "cell_type": "code",
   "execution_count": 9,
   "metadata": {},
   "outputs": [
    {
     "data": {
      "text/plain": [
       "<matplotlib.image.AxesImage at 0x236e5e7bd68>"
      ]
     },
     "execution_count": 9,
     "metadata": {},
     "output_type": "execute_result"
    },
    {
     "data": {
      "image/png": "[encoded data removed]",
      "text/plain": [
       "<Figure size 432x288 with 1 Axes>"
      ]
     },
     "metadata": {
      "needs_background": "light"
     },
     "output_type": "display_data"
    }
   ],
   "source": [
    "import matplotlib.pyplot as plt\n",
    "plt.imshow(x_train[10].reshape(28,28),cmap='gray')"
   ]
  },
  {
   "cell_type": "code",
   "execution_count": 10,
   "metadata": {},
   "outputs": [],
   "source": [
    "x_train=x_train/255\n",
    "x_test=x_test/255"
   ]
  },
  {
   "cell_type": "code",
   "execution_count": 11,
   "metadata": {},
   "outputs": [
    {
     "name": "stderr",
     "output_type": "stream",
     "text": [
      "Using TensorFlow backend.\n"
     ]
    }
   ],
   "source": [
    "import keras\n",
    "from keras.models import Sequential\n",
    "from keras.layers import Dense, Conv2D, MaxPooling2D, Flatten, Dropout"
   ]
  },
  {
   "cell_type": "code",
   "execution_count": 12,
   "metadata": {},
   "outputs": [],
   "source": [
    "batch_size = 128\n",
    "num_classes = 24\n",
    "epochs = 100\n"
   ]
  },
  {
   "cell_type": "code",
   "execution_count": 13,
   "metadata": {},
   "outputs": [],
   "source": [
    "model = Sequential()\n",
    "model.add(Conv2D(64, kernel_size=(3,3), activation = 'relu', input_shape=(28, 28 ,1) ))\n",
    "model.add(MaxPooling2D(pool_size = (2, 2)))\n",
    "\n",
    "model.add(Conv2D(64, kernel_size = (3, 3), activation = 'relu'))\n",
    "model.add(MaxPooling2D(pool_size = (2, 2)))\n",
    "model.add(Dropout(0.20))\n",
    "\n",
    "model.add(Conv2D(64, kernel_size = (3, 3), activation = 'relu'))\n",
    "model.add(MaxPooling2D(pool_size = (2, 2)))\n",
    "model.add(Dropout(0.20))\n",
    "\n",
    "model.add(Flatten())\n",
    "model.add(Dense(128, activation = 'relu'))\n",
    "model.add(Dropout(0.20))\n",
    "model.add(Dense(num_classes, activation = 'softmax'))"
   ]
  },
  {
   "cell_type": "code",
   "execution_count": 14,
   "metadata": {},
   "outputs": [],
   "source": [
    "model.compile(loss = keras.losses.categorical_crossentropy, optimizer=keras.optimizers.Adam(),\n",
    "              metrics=['accuracy'])\n"
   ]
  },
  {
   "cell_type": "code",
   "execution_count": 15,
   "metadata": {},
   "outputs": [
    {
     "name": "stdout",
     "output_type": "stream",
     "text": [
      "Train on 27455 samples, validate on 7172 samples\n",
      "Epoch 1/100\n",
      "27455/27455 [==============================] - 7s 262us/step - loss: 2.5675 - acc: 0.2091 - val_loss: 1.3706 - val_acc: 0.5710\n",
      "Epoch 2/100\n",
      "27455/27455 [==============================] - 4s 128us/step - loss: 1.1583 - acc: 0.6036 - val_loss: 0.7412 - val_acc: 0.7546s - loss: 1.4433 - acc\n",
      "Epoch 3/100\n",
      "27455/27455 [==============================] - 4s 128us/step - loss: 0.7274 - acc: 0.7483 - val_loss: 0.5387 - val_acc: 0.8077.7565 - a - ETA: 0s - loss: 0.7334 - acc: 0.7\n",
      "Epoch 4/100\n",
      "27455/27455 [==============================] - 4s 128us/step - loss: 0.5138 - acc: 0.8244 - val_loss: 0.3936 - val_acc: 0.8728\n",
      "Epoch 5/100\n",
      "27455/27455 [==============================] - 4s 128us/step - loss: 0.3764 - acc: 0.8711 - val_loss: 0.3196 - val_acc: 0.8957\n",
      "Epoch 6/100\n",
      "27455/27455 [==============================] - 4s 131us/step - loss: 0.2944 - acc: 0.9008 - val_loss: 0.2757 - val_acc: 0.9028\n",
      "Epoch 7/100\n",
      "27455/27455 [==============================] - 4s 131us/step - loss: 0.2337 - acc: 0.9205 - val_loss: 0.2260 - val_acc: 0.9197oss: 0.2341 - a\n",
      "Epoch 8/100\n",
      "27455/27455 [==============================] - 3s 127us/step - loss: 0.1967 - acc: 0.9339 - val_loss: 0.2225 - val_acc: 0.9207\n",
      "Epoch 9/100\n",
      "27455/27455 [==============================] - 4s 128us/step - loss: 0.1596 - acc: 0.9483 - val_loss: 0.1929 - val_acc: 0.9329\n",
      "Epoch 10/100\n",
      "27455/27455 [==============================] - 4s 130us/step - loss: 0.1410 - acc: 0.9531 - val_loss: 0.1965 - val_acc: 0.93840s - loss: 0.1417 - acc: 0.9\n",
      "Epoch 11/100\n",
      "27455/27455 [==============================] - 4s 129us/step - loss: 0.1186 - acc: 0.9614 - val_loss: 0.1774 - val_acc: 0.9525\n",
      "Epoch 12/100\n",
      "27455/27455 [==============================] - 4s 129us/step - loss: 0.1090 - acc: 0.9638 - val_loss: 0.1911 - val_acc: 0.9322\n",
      "Epoch 13/100\n",
      "27455/27455 [==============================] - 4s 129us/step - loss: 0.0954 - acc: 0.9691 - val_loss: 0.1507 - val_acc: 0.9536\n",
      "Epoch 14/100\n",
      "27455/27455 [==============================] - 4s 128us/step - loss: 0.0854 - acc: 0.9725 - val_loss: 0.1717 - val_acc: 0.9403\n",
      "Epoch 15/100\n",
      "27455/27455 [==============================] - 3s 127us/step - loss: 0.0765 - acc: 0.9746 - val_loss: 0.1624 - val_acc: 0.9453\n",
      "Epoch 16/100\n",
      "27455/27455 [==============================] - 4s 129us/step - loss: 0.0659 - acc: 0.9799 - val_loss: 0.1687 - val_acc: 0.9551\n",
      "Epoch 17/100\n",
      "27455/27455 [==============================] - 4s 128us/step - loss: 0.0661 - acc: 0.9796 - val_loss: 0.1381 - val_acc: 0.9557\n",
      "Epoch 18/100\n",
      "27455/27455 [==============================] - 4s 129us/step - loss: 0.0619 - acc: 0.9801 - val_loss: 0.1482 - val_acc: 0.9483\n",
      "Epoch 19/100\n",
      "27455/27455 [==============================] - 4s 130us/step - loss: 0.0591 - acc: 0.9813 - val_loss: 0.1657 - val_acc: 0.9551\n",
      "Epoch 20/100\n",
      "27455/27455 [==============================] - 4s 131us/step - loss: 0.0540 - acc: 0.9829 - val_loss: 0.1244 - val_acc: 0.9590\n",
      "Epoch 21/100\n",
      "27455/27455 [==============================] - 4s 135us/step - loss: 0.0481 - acc: 0.9857 - val_loss: 0.1511 - val_acc: 0.9594\n",
      "Epoch 22/100\n",
      "27455/27455 [==============================] - 4s 136us/step - loss: 0.0456 - acc: 0.9859 - val_loss: 0.1253 - val_acc: 0.9603\n",
      "Epoch 23/100\n",
      "27455/27455 [==============================] - 4s 132us/step - loss: 0.0475 - acc: 0.9854 - val_loss: 0.1333 - val_acc: 0.9558\n",
      "Epoch 24/100\n",
      "27455/27455 [==============================] - 4s 139us/step - loss: 0.0468 - acc: 0.9850 - val_loss: 0.1280 - val_acc: 0.9668\n",
      "Epoch 25/100\n",
      "27455/27455 [==============================] - 4s 135us/step - loss: 0.0404 - acc: 0.9875 - val_loss: 0.1234 - val_acc: 0.9622\n",
      "Epoch 26/100\n",
      "27455/27455 [==============================] - 4s 141us/step - loss: 0.0378 - acc: 0.9881 - val_loss: 0.1645 - val_acc: 0.9515\n",
      "Epoch 27/100\n",
      "27455/27455 [==============================] - 4s 135us/step - loss: 0.0379 - acc: 0.9884 - val_loss: 0.1216 - val_acc: 0.95910s - loss: 0.0380 - ac\n",
      "Epoch 28/100\n",
      "27455/27455 [==============================] - 4s 137us/step - loss: 0.0361 - acc: 0.9887 - val_loss: 0.1318 - val_acc: 0.9573s - ETA: 0s - loss: 0.0368 - a - ETA: 0s - loss: 0.0361 - acc: 0.988\n",
      "Epoch 29/100\n",
      "27455/27455 [==============================] - 4s 133us/step - loss: 0.0372 - acc: 0.9879 - val_loss: 0.1541 - val_acc: 0.9557\n",
      "Epoch 30/100\n",
      "27455/27455 [==============================] - 4s 132us/step - loss: 0.0370 - acc: 0.9883 - val_loss: 0.1257 - val_acc: 0.9568A: 0s - loss: 0.0386 - acc: 0.9 - ETA: 0s - loss: 0.0384 - acc:  - ETA: 0s - loss: 0.0370 - acc: 0.988\n",
      "Epoch 31/100\n",
      "27455/27455 [==============================] - 4s 135us/step - loss: 0.0325 - acc: 0.9892 - val_loss: 0.1668 - val_acc: 0.9561\n",
      "Epoch 32/100\n",
      "27455/27455 [==============================] - 4s 136us/step - loss: 0.0345 - acc: 0.9884 - val_loss: 0.1382 - val_acc: 0.9598s - loss: 0.0386 -  - ETA: 1s - loss: 0.0 - ETA: 0s - loss: 0.035\n",
      "Epoch 33/100\n",
      "27455/27455 [==============================] - 4s 131us/step - loss: 0.0353 - acc: 0.9882 - val_loss: 0.1450 - val_acc: 0.9610\n",
      "Epoch 34/100\n",
      "27455/27455 [==============================] - 4s 128us/step - loss: 0.0271 - acc: 0.9915 - val_loss: 0.1320 - val_acc: 0.9596- loss: 0.0293 - acc: 0.99 - ETA: 0s - loss: 0.029\n",
      "Epoch 35/100\n",
      "27455/27455 [==============================] - 3s 127us/step - loss: 0.0285 - acc: 0.9907 - val_loss: 0.1354 - val_acc: 0.9629\n",
      "Epoch 36/100\n",
      "27455/27455 [==============================] - 4s 130us/step - loss: 0.0319 - acc: 0.9901 - val_loss: 0.1126 - val_acc: 0.9629\n",
      "Epoch 37/100\n",
      "27455/27455 [==============================] - 3s 126us/step - loss: 0.0296 - acc: 0.9903 - val_loss: 0.1801 - val_acc: 0.9532\n",
      "Epoch 38/100\n",
      "27455/27455 [==============================] - 4s 130us/step - loss: 0.0290 - acc: 0.9909 - val_loss: 0.1467 - val_acc: 0.9583\n",
      "Epoch 39/100\n",
      "27455/27455 [==============================] - 4s 129us/step - loss: 0.0279 - acc: 0.9910 - val_loss: 0.1020 - val_acc: 0.95910305  - ETA: 1s - loss: 0.0295 - ETA: 0s - loss: 0.0285 - acc: 0\n",
      "Epoch 40/100\n",
      "27455/27455 [==============================] - 3s 126us/step - loss: 0.0218 - acc: 0.9928 - val_loss: 0.1200 - val_acc: 0.9622\n",
      "Epoch 41/100\n",
      "27455/27455 [==============================] - 4s 128us/step - loss: 0.0263 - acc: 0.9913 - val_loss: 0.1476 - val_acc: 0.9509\n",
      "Epoch 42/100\n",
      "27455/27455 [==============================] - 3s 126us/step - loss: 0.0235 - acc: 0.9925 - val_loss: 0.1399 - val_acc: 0.9619\n",
      "Epoch 43/100\n",
      "27455/27455 [==============================] - 3s 127us/step - loss: 0.0238 - acc: 0.9927 - val_loss: 0.1588 - val_acc: 0.9522\n",
      "Epoch 44/100\n",
      "27455/27455 [==============================] - 3s 126us/step - loss: 0.0246 - acc: 0.9921 - val_loss: 0.1477 - val_acc: 0.9596\n",
      "Epoch 45/100\n",
      "27455/27455 [==============================] - 4s 128us/step - loss: 0.0198 - acc: 0.9935 - val_loss: 0.1446 - val_acc: 0.9643\n",
      "Epoch 46/100\n",
      "27455/27455 [==============================] - 4s 128us/step - loss: 0.0243 - acc: 0.9920 - val_loss: 0.1474 - val_acc: 0.9551- acc: 0\n",
      "Epoch 47/100\n",
      "27455/27455 [==============================] - 3s 127us/step - loss: 0.0235 - acc: 0.9921 - val_loss: 0.1023 - val_acc: 0.9677ss: 0.0234 - acc - ETA\n",
      "Epoch 48/100\n",
      "27455/27455 [==============================] - 3s 127us/step - loss: 0.0257 - acc: 0.9917 - val_loss: 0.1561 - val_acc: 0.9644: 0.020 - ETA: 1s - los\n",
      "Epoch 49/100\n",
      "27455/27455 [==============================] - 3s 127us/step - loss: 0.0192 - acc: 0.9937 - val_loss: 0.1458 - val_acc: 0.9508\n",
      "Epoch 50/100\n",
      "27455/27455 [==============================] - 3s 126us/step - loss: 0.0193 - acc: 0.9937 - val_loss: 0.1145 - val_acc: 0.9727\n",
      "Epoch 51/100\n",
      "27455/27455 [==============================] - 4s 128us/step - loss: 0.0216 - acc: 0.9935 - val_loss: 0.1380 - val_acc: 0.9617\n",
      "Epoch 52/100\n",
      "27455/27455 [==============================] - 3s 126us/step - loss: 0.0194 - acc: 0.9938 - val_loss: 0.1198 - val_acc: 0.9700\n",
      "Epoch 53/100\n",
      "27455/27455 [==============================] - 3s 126us/step - loss: 0.0179 - acc: 0.9941 - val_loss: 0.1357 - val_acc: 0.9656\n",
      "Epoch 54/100\n",
      "27455/27455 [==============================] - 3s 126us/step - loss: 0.0213 - acc: 0.9936 - val_loss: 0.1116 - val_acc: 0.9668\n",
      "Epoch 55/100\n",
      "27455/27455 [==============================] - 3s 127us/step - loss: 0.0199 - acc: 0.9934 - val_loss: 0.1280 - val_acc: 0.9575\n",
      "Epoch 56/100\n",
      "27455/27455 [==============================] - 3s 126us/step - loss: 0.0218 - acc: 0.9929 - val_loss: 0.1285 - val_acc: 0.9752\n",
      "Epoch 57/100\n",
      "27455/27455 [==============================] - 3s 126us/step - loss: 0.0184 - acc: 0.9938 - val_loss: 0.1495 - val_acc: 0.9557\n",
      "Epoch 58/100\n",
      "27455/27455 [==============================] - 3s 127us/step - loss: 0.0165 - acc: 0.9947 - val_loss: 0.1216 - val_acc: 0.9580\n",
      "Epoch 59/100\n",
      "27455/27455 [==============================] - 3s 127us/step - loss: 0.0178 - acc: 0.9942 - val_loss: 0.1359 - val_acc: 0.9571\n",
      "Epoch 60/100\n",
      "27455/27455 [==============================] - 4s 128us/step - loss: 0.0218 - acc: 0.9937 - val_loss: 0.1164 - val_acc: 0.964626 - acc:\n",
      "Epoch 61/100\n",
      "27455/27455 [==============================] - 3s 127us/step - loss: 0.0172 - acc: 0.9940 - val_loss: 0.1570 - val_acc: 0.9568\n",
      "Epoch 62/100\n",
      "27455/27455 [==============================] - 4s 128us/step - loss: 0.0159 - acc: 0.9944 - val_loss: 0.1254 - val_acc: 0.96461\n",
      "Epoch 63/100\n",
      "27455/27455 [==============================] - 4s 132us/step - loss: 0.0167 - acc: 0.9942 - val_loss: 0.1468 - val_acc: 0.9550\n",
      "Epoch 64/100\n",
      "27455/27455 [==============================] - 4s 135us/step - loss: 0.0184 - acc: 0.9938 - val_loss: 0.1540 - val_acc: 0.9538\n",
      "Epoch 65/100\n",
      "27455/27455 [==============================] - 4s 135us/step - loss: 0.0179 - acc: 0.9945 - val_loss: 0.1133 - val_acc: 0.9656\n",
      "Epoch 66/100\n",
      "27455/27455 [==============================] - 4s 132us/step - loss: 0.0187 - acc: 0.9940 - val_loss: 0.1674 - val_acc: 0.9619acc: 0 - ETA: 0s - loss: 0.0162 - acc: 0.994 - ETA: 0s - loss: 0.016\n",
      "Epoch 67/100\n",
      "27455/27455 [==============================] - 4s 131us/step - loss: 0.0146 - acc: 0.9953 - val_loss: 0.1640 - val_acc: 0.9625- acc: \n",
      "Epoch 68/100\n",
      "27455/27455 [==============================] - 3s 127us/step - loss: 0.0145 - acc: 0.9956 - val_loss: 0.1142 - val_acc: 0.9723\n",
      "Epoch 69/100\n",
      "27455/27455 [==============================] - 4s 133us/step - loss: 0.0169 - acc: 0.9943 - val_loss: 0.1467 - val_acc: 0.9607\n",
      "Epoch 70/100\n",
      "27455/27455 [==============================] - 3s 127us/step - loss: 0.0172 - acc: 0.9947 - val_loss: 0.1496 - val_acc: 0.9646- - ETA: 1s - loss: 0.\n",
      "Epoch 71/100\n",
      "27455/27455 [==============================] - 3s 127us/step - loss: 0.0153 - acc: 0.9953 - val_loss: 0.1226 - val_acc: 0.9718- loss: 0.014 - ETA: 1s - loss: \n",
      "Epoch 72/100\n",
      "27455/27455 [==============================] - 4s 130us/step - loss: 0.0132 - acc: 0.9960 - val_loss: 0.1278 - val_acc: 0.9707\n",
      "Epoch 73/100\n",
      "27455/27455 [==============================] - 4s 129us/step - loss: 0.0136 - acc: 0.9958 - val_loss: 0.1426 - val_acc: 0.9643\n",
      "Epoch 74/100\n",
      "27455/27455 [==============================] - 4s 129us/step - loss: 0.0202 - acc: 0.9940 - val_loss: 0.1509 - val_acc: 0.9633\n",
      "Epoch 75/100\n",
      "27455/27455 [==============================] - 4s 133us/step - loss: 0.0173 - acc: 0.9947 - val_loss: 0.1193 - val_acc: 0.9720.0154 - acc: 0 - ETA: 1s - lo\n",
      "Epoch 76/100\n",
      "27455/27455 [==============================] - 4s 132us/step - loss: 0.0150 - acc: 0.9948 - val_loss: 0.1461 - val_acc: 0.9597 l - ETA: 0s - loss: 0.0148 -  - ETA: 0s - loss: 0.0147 - acc: 0.99\n",
      "Epoch 77/100\n",
      "27455/27455 [==============================] - 4s 133us/step - loss: 0.0142 - acc: 0.9959 - val_loss: 0.1405 - val_acc: 0.9604\n",
      "Epoch 78/100\n",
      "27455/27455 [==============================] - 4s 132us/step - loss: 0.0180 - acc: 0.9942 - val_loss: 0.1186 - val_acc: 0.9653loss: 0.0199 - acc - ETA: 1s - loss: 0.0196 - acc: 0. - ETA: 1s - loss:\n",
      "Epoch 79/100\n",
      "27455/27455 [==============================] - 4s 131us/step - loss: 0.0153 - acc: 0.9950 - val_loss: 0.1189 - val_acc: 0.9681\n",
      "Epoch 80/100\n",
      "27455/27455 [==============================] - 4s 130us/step - loss: 0.0160 - acc: 0.9949 - val_loss: 0.1748 - val_acc: 0.9593\n",
      "Epoch 81/100\n",
      "27455/27455 [==============================] - 4s 131us/step - loss: 0.0131 - acc: 0.9956 - val_loss: 0.1641 - val_acc: 0.9586: 1\n",
      "Epoch 82/100\n",
      "27455/27455 [==============================] - 4s 129us/step - loss: 0.0154 - acc: 0.9953 - val_loss: 0.1393 - val_acc: 0.9643 0.01\n",
      "Epoch 83/100\n",
      "27455/27455 [==============================] - 4s 130us/step - loss: 0.0139 - acc: 0.9958 - val_loss: 0.1744 - val_acc: 0.9552ETA: 0s - loss: 0.0122 -\n",
      "Epoch 84/100\n",
      "27455/27455 [==============================] - 4s 130us/step - loss: 0.0120 - acc: 0.9959 - val_loss: 0.1522 - val_acc: 0.96850.\n",
      "Epoch 85/100\n",
      "27455/27455 [==============================] - 4s 129us/step - loss: 0.0125 - acc: 0.9958 - val_loss: 0.1274 - val_acc: 0.9654\n",
      "Epoch 86/100\n",
      "27455/27455 [==============================] - 4s 132us/step - loss: 0.0132 - acc: 0.9957 - val_loss: 0.1479 - val_acc: 0.9674loss: 0.0132 - acc: 0.9 - ETA: 2s - loss: 0.0137 - acc - ETA: 1s - loss: 0 - ETA: 0s - loss: 0.0130 - a\n",
      "Epoch 87/100\n",
      "27455/27455 [==============================] - 4s 131us/step - loss: 0.0145 - acc: 0.9956 - val_loss: 0.1045 - val_acc: 0.9696\n",
      "Epoch 88/100\n",
      "27455/27455 [==============================] - 4s 130us/step - loss: 0.0128 - acc: 0.9961 - val_loss: 0.1680 - val_acc: 0.9607\n",
      "Epoch 89/100\n",
      "27455/27455 [==============================] - 4s 132us/step - loss: 0.0141 - acc: 0.9961 - val_loss: 0.1364 - val_acc: 0.9727 - loss: 0.0154\n",
      "Epoch 90/100\n",
      "27455/27455 [==============================] - 4s 130us/step - loss: 0.0132 - acc: 0.9960 - val_loss: 0.1916 - val_acc: 0.9571\n",
      "Epoch 91/100\n",
      "27455/27455 [==============================] - 4s 129us/step - loss: 0.0107 - acc: 0.9958 - val_loss: 0.1406 - val_acc: 0.9639\n",
      "Epoch 92/100\n",
      "27455/27455 [==============================] - 4s 128us/step - loss: 0.0143 - acc: 0.9953 - val_loss: 0.1746 - val_acc: 0.9584\n",
      "Epoch 93/100\n",
      "27455/27455 [==============================] - 4s 128us/step - loss: 0.0158 - acc: 0.9948 - val_loss: 0.1276 - val_acc: 0.96282 - acc:  - ETA: 0s - loss: 0.0153 - acc:\n",
      "Epoch 94/100\n",
      "27455/27455 [==============================] - 4s 128us/step - loss: 0.0128 - acc: 0.9962 - val_loss: 0.1330 - val_acc: 0.9629\n",
      "Epoch 95/100\n",
      "27455/27455 [==============================] - 4s 129us/step - loss: 0.0088 - acc: 0.9971 - val_loss: 0.1199 - val_acc: 0.9665: 1s - loss: 0.0100 - acc - ETA: 1s - loss\n",
      "Epoch 96/100\n",
      "27455/27455 [==============================] - 4s 131us/step - loss: 0.0127 - acc: 0.9957 - val_loss: 0.1387 - val_acc: 0.9642 -\n",
      "Epoch 97/100\n",
      "27455/27455 [==============================] - 4s 130us/step - loss: 0.0102 - acc: 0.9967 - val_loss: 0.1208 - val_acc: 0.9696\n",
      "Epoch 98/100\n",
      "27455/27455 [==============================] - 4s 129us/step - loss: 0.0111 - acc: 0.9965 - val_loss: 0.1488 - val_acc: 0.9657 1s - loss: 0.0105 - acc: 0 - ETA: 1s - loss: 0.0104 - acc: 0.996 - ETA: 1s - loss: 0.0103 - acc: 0. - ETA: 0s - loss: 0.0106 - acc - ETA: 0s - loss: 0.0110 - acc:\n",
      "Epoch 99/100\n",
      "27455/27455 [==============================] - 4s 128us/step - loss: 0.0145 - acc: 0.9956 - val_loss: 0.1608 - val_acc: 0.9643\n",
      "Epoch 100/100\n",
      "27455/27455 [==============================] - 4s 129us/step - loss: 0.0114 - acc: 0.9964 - val_loss: 0.1004 - val_acc: 0.9702 1s - loss: 0 - ETA: 0s - loss: 0.0107 \n"
     ]
    }
   ],
   "source": [
    "history = model.fit(x_train, y_train, validation_data = (x_test, y_test), epochs=epochs, batch_size=batch_size)"
   ]
  },
  {
   "cell_type": "code",
   "execution_count": 16,
   "metadata": {},
   "outputs": [
    {
     "data": {
      "image/png": "[encoded data removed]",
      "text/plain": [
       "<Figure size 432x288 with 1 Axes>"
      ]
     },
     "metadata": {
      "needs_background": "light"
     },
     "output_type": "display_data"
    }
   ],
   "source": [
    "plt.plot(history.history['acc'])\n",
    "plt.plot(history.history['val_acc'])\n",
    "plt.title(\"Accuracy\")\n",
    "plt.xlabel('epoch')\n",
    "plt.ylabel('accuracy')\n",
    "plt.legend(['train','test'])\n",
    "plt.show()"
   ]
  },
  {
   "cell_type": "code",
   "execution_count": 17,
   "metadata": {},
   "outputs": [],
   "source": [
    "model.save('sign_language')"
   ]
  },
  {
   "cell_type": "code",
   "execution_count": 18,
   "metadata": {},
   "outputs": [],
   "source": [
    "import cv2\n",
    "from keras.preprocessing.image import img_to_array\n",
    "alphabet=['A','B','C','D','E','F','G','H','I','K','L','M','N','O','P','Q','R','S','T','U','V','W','X','Y']\n",
    "def classify(image):\n",
    "    image = cv2.resize(image, (28, 28))\n",
    "    image = image.astype(\"float\") / 255.0\n",
    "    image = img_to_array(image)\n",
    "    image = np.expand_dims(image, axis=0)\n",
    "    proba=model.predict(image)\n",
    "    idx = np.argmax(proba)\n",
    "    return alphabet[idx]"
   ]
  },
  {
   "cell_type": "code",
   "execution_count": 19,
   "metadata": {},
   "outputs": [
    {
     "data": {
      "text/plain": [
       "'C'"
      ]
     },
     "execution_count": 19,
     "metadata": {},
     "output_type": "execute_result"
    }
   ],
   "source": [
    "classify(x_train[3]*255)"
   ]
  },
  {
   "cell_type": "code",
   "execution_count": 20,
   "metadata": {},
   "outputs": [
    {
     "name": "stdout",
     "output_type": "stream",
     "text": [
      "[0 0 1 0 0 0 0 0 0 0 0 0 0 0 0 0 0 0 0 0 0 0 0 0]\n"
     ]
    }
   ],
   "source": [
    "print(y_train[3])"
   ]
  },
  {
   "cell_type": "code",
   "execution_count": null,
   "metadata": {},
   "outputs": [],
   "source": []
  }
 ],
 "metadata": {
  "kernelspec": {
   "display_name": "Python 3",
   "language": "python",
   "name": "python3"
  },
  "language_info": {
   "codemirror_mode": {
    "name": "ipython",
    "version": 3
   },
   "file_extension": ".py",
   "mimetype": "text/x-python",
   "name": "python",
   "nbconvert_exporter": "python",
   "pygments_lexer": "ipython3",
   "version": "3.7.4"
  }
 },
 "nbformat": 4,
 "nbformat_minor": 2
}
